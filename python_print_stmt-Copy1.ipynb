{
 "cells": [
  {
   "cell_type": "code",
   "execution_count": 1,
   "id": "ffac95f5-aa49-49f7-a885-126a83b4a4d0",
   "metadata": {},
   "outputs": [
    {
     "data": {
      "text/plain": [
       "20"
      ]
     },
     "execution_count": 1,
     "metadata": {},
     "output_type": "execute_result"
    }
   ],
   "source": [
    "a=10\n",
    "b=20\n",
    "a\n",
    "b"
   ]
  },
  {
   "cell_type": "code",
   "execution_count": 3,
   "id": "d00564a8-80ba-4a78-9229-a0a579c62636",
   "metadata": {},
   "outputs": [
    {
     "name": "stdout",
     "output_type": "stream",
     "text": [
      "10\n",
      "20\n"
     ]
    }
   ],
   "source": [
    "print(a)\n",
    "print(b)"
   ]
  },
  {
   "cell_type": "code",
   "execution_count": 7,
   "id": "e3bc117f-2de2-4cb7-bced-3a3cde63818f",
   "metadata": {},
   "outputs": [
    {
     "name": "stdout",
     "output_type": "stream",
     "text": [
      "20\n",
      "20 python\n"
     ]
    }
   ],
   "source": [
    "print(20)\n",
    "print(20,'python')"
   ]
  },
  {
   "cell_type": "code",
   "execution_count": 14,
   "id": "1d7171c0-2a9a-456a-8efa-5528f51c6fd8",
   "metadata": {},
   "outputs": [
    {
     "name": "stdout",
     "output_type": "stream",
     "text": [
      "50\n"
     ]
    }
   ],
   "source": [
    "num1 = 20\n",
    "num2 = 30\n",
    "add = num1+num2\n",
    "print(add)"
   ]
  },
  {
   "cell_type": "markdown",
   "id": "574c0ab3-b994-42fa-95e5-6375a90a4875",
   "metadata": {},
   "source": [
    "# print result with string"
   ]
  },
  {
   "cell_type": "code",
   "execution_count": 18,
   "id": "b36bafda-fc57-4eb0-b221-5398e5150be3",
   "metadata": {},
   "outputs": [
    {
     "name": "stdout",
     "output_type": "stream",
     "text": [
      "the addition of 20 and 30 is= 50\n"
     ]
    }
   ],
   "source": [
    "num1 = 20\n",
    "num2 = 30\n",
    "add = num1+num2\n",
    "print('the addition of',num1,'and',num2,'is=',add)"
   ]
  },
  {
   "cell_type": "code",
   "execution_count": 27,
   "id": "3f4fa5f5-6321-4b7a-a3f2-5b6ef6f58785",
   "metadata": {},
   "outputs": [
    {
     "name": "stdout",
     "output_type": "stream",
     "text": [
      "my name is manju and i am from hyd\n"
     ]
    }
   ],
   "source": [
    "name = 'manju'\n",
    "city = 'hyd'\n",
    "# hello my name is manju , iam from hyderabad\n",
    "print('my name is',name,'and i am from',city) "
   ]
  },
  {
   "cell_type": "code",
   "execution_count": 33,
   "id": "d8b920b4-5a95-4983-b50f-e21afe4e5d35",
   "metadata": {},
   "outputs": [
    {
     "name": "stdout",
     "output_type": "stream",
     "text": [
      "the average of100,25,and 333 is= 152.66666666666666or152.67\n"
     ]
    }
   ],
   "source": [
    "num1 = 100\n",
    "num2 = 25\n",
    "num3 = 333\n",
    "avg  = (num1+num2+num3)/3\n",
    "avg1 = round((num1+num2+num3)/3,2)\n",
    "print('the average of{},{},and {} is= {}or{}'.format(num1,num2,num3,avg,avg1))"
   ]
  },
  {
   "cell_type": "code",
   "execution_count": 35,
   "id": "d3bac445-e850-4ec7-a6c9-a4f0830cd169",
   "metadata": {},
   "outputs": [
    {
     "data": {
      "text/plain": [
       "152.67"
      ]
     },
     "execution_count": 35,
     "metadata": {},
     "output_type": "execute_result"
    }
   ],
   "source": [
    "round(avg,2)"
   ]
  },
  {
   "cell_type": "code",
   "execution_count": 37,
   "id": "98201444-117c-4d4e-aa5a-cffd9e127b06",
   "metadata": {},
   "outputs": [
    {
     "name": "stdout",
     "output_type": "stream",
     "text": [
      "the addition of20 and 30 = 50\n"
     ]
    }
   ],
   "source": [
    "num1 = 20 \n",
    "num2 = 30\n",
    "add = num1+num2\n",
    "print(f'the addition of{num1} and {num2} = {add}')"
   ]
  },
  {
   "cell_type": "code",
   "execution_count": 41,
   "id": "90efedaa-4625-45dc-88a8-896accb10441",
   "metadata": {},
   "outputs": [
    {
     "name": "stdout",
     "output_type": "stream",
     "text": [
      "hello my name is manju and i am from hyd\n"
     ]
    }
   ],
   "source": [
    "name = 'manju'\n",
    "city = 'hyd'\n",
    "print(f'hello my name is {name} and i am from {city}')"
   ]
  },
  {
   "cell_type": "code",
   "execution_count": 45,
   "id": "6e24fc51-0d09-475b-a3ff-07530bb0b6cd",
   "metadata": {},
   "outputs": [
    {
     "name": "stdout",
     "output_type": "stream",
     "text": [
      "the addition of  100 and 20 is 120\n",
      "the addition of 100 and 20 is 120\n",
      "the addition of 100and20 is 120\n"
     ]
    }
   ],
   "source": [
    "num1 = 100\n",
    "num2 = 20\n",
    "add = num1+num2\n",
    "print('the addition of ',num1,'and', num2, 'is',add)\n",
    "print('the addition of {} and {} is {}'.format(num1,num2,add))\n",
    "print(f'the addition of {num1}and{num2} is {add}')"
   ]
  },
  {
   "cell_type": "markdown",
   "id": "20e7e2f1-bc04-48ca-8282-b4c45e9d977d",
   "metadata": {},
   "source": [
    "# end statement"
   ]
  },
  {
   "cell_type": "code",
   "execution_count": 47,
   "id": "7b79f2af-d7f1-49bd-b8df-55e023410311",
   "metadata": {},
   "outputs": [
    {
     "name": "stdout",
     "output_type": "stream",
     "text": [
      "hello\n",
      "good morning\n"
     ]
    }
   ],
   "source": [
    "print('hello')\n",
    "print('good morning')"
   ]
  },
  {
   "cell_type": "code",
   "execution_count": 55,
   "id": "4cca217c-b3a6-4307-99c6-c2e29d562b87",
   "metadata": {},
   "outputs": [
    {
     "name": "stdout",
     "output_type": "stream",
     "text": [
      "hello good morning\n"
     ]
    }
   ],
   "source": [
    "print('hello', end ='')\n",
    "print(' good morning')"
   ]
  },
  {
   "cell_type": "markdown",
   "id": "63cfdcb0-bee9-4934-8e5c-c3e2a1f3e6fa",
   "metadata": {},
   "source": [
    "# seperator"
   ]
  },
  {
   "cell_type": "code",
   "execution_count": 57,
   "id": "b174d1e9-bf1f-4ddd-9776-e0d9758baee6",
   "metadata": {},
   "outputs": [
    {
     "name": "stdout",
     "output_type": "stream",
     "text": [
      "hello--->hi--->how are you\n"
     ]
    }
   ],
   "source": [
    "print('hello','hi','how are you',sep='--->')"
   ]
  },
  {
   "cell_type": "code",
   "execution_count": 69,
   "id": "e3b44b46-7227-400a-8580-9a37daa06b62",
   "metadata": {},
   "outputs": [
    {
     "name": "stdout",
     "output_type": "stream",
     "text": [
      " hello & hi & how are you \n"
     ]
    }
   ],
   "source": [
    "print(' hello ' ,' hi ' ,' how are you ' , sep ='&')"
   ]
  },
  {
   "cell_type": "code",
   "execution_count": 73,
   "id": "669b3705-6e49-4bed-b996-36e5f710fb6c",
   "metadata": {},
   "outputs": [
    {
     "name": "stdout",
     "output_type": "stream",
     "text": [
      " hello @ hi @ how are you \n"
     ]
    }
   ],
   "source": [
    "print(' hello ',' hi ',' how are you ',sep='@')"
   ]
  },
  {
   "cell_type": "code",
   "execution_count": 75,
   "id": "fdb3860b-0374-4c70-8b92-63c4cd36f100",
   "metadata": {},
   "outputs": [
    {
     "name": "stdout",
     "output_type": "stream",
     "text": [
      "hello  hi  how are you \n"
     ]
    }
   ],
   "source": [
    "print('hello ',' hi ',' how are you ',sep='')"
   ]
  },
  {
   "cell_type": "code",
   "execution_count": 77,
   "id": "f8a8d42e-5c01-421f-8b49-33643a33a517",
   "metadata": {},
   "outputs": [
    {
     "name": "stdout",
     "output_type": "stream",
     "text": [
      "3 .\n"
     ]
    }
   ],
   "source": [
    "print(3,'.')"
   ]
  },
  {
   "cell_type": "code",
   "execution_count": 79,
   "id": "f6a5ec35-eaec-48e8-a572-3451f8771643",
   "metadata": {},
   "outputs": [
    {
     "name": "stdout",
     "output_type": "stream",
     "text": [
      "3.\n"
     ]
    }
   ],
   "source": [
    "print(3,'.',sep='')"
   ]
  },
  {
   "cell_type": "code",
   "execution_count": 81,
   "id": "6972fbd4-c191-4953-81be-7fdef34dda30",
   "metadata": {},
   "outputs": [
    {
     "name": "stdout",
     "output_type": "stream",
     "text": [
      "1 2 3.\n"
     ]
    }
   ],
   "source": [
    "print(1,2,end=' ')\n",
    "print(3,'.',sep='')"
   ]
  },
  {
   "cell_type": "code",
   "execution_count": null,
   "id": "d8b3874d-1fe2-4f06-ad14-d705f67fa747",
   "metadata": {},
   "outputs": [],
   "source": []
  }
 ],
 "metadata": {
  "kernelspec": {
   "display_name": "Python 3 (ipykernel)",
   "language": "python",
   "name": "python3"
  },
  "language_info": {
   "codemirror_mode": {
    "name": "ipython",
    "version": 3
   },
   "file_extension": ".py",
   "mimetype": "text/x-python",
   "name": "python",
   "nbconvert_exporter": "python",
   "pygments_lexer": "ipython3",
   "version": "3.12.7"
  }
 },
 "nbformat": 4,
 "nbformat_minor": 5
}
